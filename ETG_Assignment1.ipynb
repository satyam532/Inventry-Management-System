{
 "cells": [
  {
   "cell_type": "markdown",
   "metadata": {},
   "source": [
    "### Reading the Record for Adding the products in inventry"
   ]
  },
  {
   "cell_type": "code",
   "execution_count": null,
   "metadata": {},
   "outputs": [],
   "source": [
    "import json"
   ]
  },
  {
   "cell_type": "code",
   "execution_count": 15,
   "metadata": {},
   "outputs": [],
   "source": [
    "fd = open(\"Record.json\",'r')\n",
    "text = fd.read()\n",
    "fd.close()\n",
    "\n",
    "Record = json.loads(text)"
   ]
  },
  {
   "cell_type": "code",
   "execution_count": 16,
   "metadata": {},
   "outputs": [
    {
     "data": {
      "text/plain": [
       "{'1001': {'Name': 'Choco cake',\n",
       "  'price': 100,\n",
       "  'Quantity': 34,\n",
       "  'expiry_date': '2022 january',\n",
       "  'Company': 'Just bake'},\n",
       " '1002': {'Name': 'coffee',\n",
       "  'price': 45,\n",
       "  'Quantity': 50,\n",
       "  'expiry_date': '2022 dec',\n",
       "  'Company': 'Nestle'},\n",
       " '1003': {'Name': 'Tea',\n",
       "  'price': 50,\n",
       "  'Quantity': 50,\n",
       "  'expiry_date': '2022 dec',\n",
       "  'Company': 'Tata'},\n",
       " '1004': {'Name': 'Sugar',\n",
       "  'price': 40,\n",
       "  'Quantity': 50,\n",
       "  'expiry_date': '2023 Aug',\n",
       "  'Company': 'Rana Sugar Ltd.'},\n",
       " '1005': {'Name': 'Burger',\n",
       "  'price': 70,\n",
       "  'Quantity': 48,\n",
       "  'expiry_date': '2021 oct',\n",
       "  'Company': 'Mccdonald'},\n",
       " '1006': {'Name': 'Pizza',\n",
       "  'price': 80,\n",
       "  'Quantity': 40,\n",
       "  'expiry_date': '2021 oct',\n",
       "  'Company': 'Dominoz'},\n",
       " '1007': {'Name': 'Soan Papdi',\n",
       "  'price': 150,\n",
       "  'Quantity': 40,\n",
       "  'expiry_date': '2022 Aug',\n",
       "  'Company': 'Bikaner'},\n",
       " '1008': {'Name': 'Rasogulla',\n",
       "  'price': 200,\n",
       "  'Quantity': 35,\n",
       "  'expiry_date': '2021 Dec',\n",
       "  'Company': 'Haldiram'},\n",
       " '1009': {'Name': 'Musturd Oil',\n",
       "  'price': 220,\n",
       "  'Quantity': 20,\n",
       "  'expiry_date': '2021 Dec',\n",
       "  'Company': 'Soyabean'},\n",
       " '1010': {'Name': 'Vegetable ghee',\n",
       "  'price': 300,\n",
       "  'Quantity': 12,\n",
       "  'expiry_date': '2022 Sep',\n",
       "  'Company': 'Patanjali'},\n",
       " '1011': {'Name': 'Biscuits',\n",
       "  'price': 20,\n",
       "  'Quantity': 40,\n",
       "  'expiry_date': '2021 Dec',\n",
       "  'Company': 'Parle'},\n",
       " '1012': {'Name': 'Water',\n",
       "  'price': 20,\n",
       "  'Quantity': 50,\n",
       "  'expiry_date': '2021 Dec',\n",
       "  'Company': 'Kinley'},\n",
       " '1013': {'Name': 'Cold drinks',\n",
       "  'price': 30,\n",
       "  'Quantity': 30,\n",
       "  'expiry_date': '2021 Nov',\n",
       "  'Company': 'Pepsi'},\n",
       " '1014': {'Name': 'Green Tea',\n",
       "  'price': 55,\n",
       "  'Quantity': 30,\n",
       "  'expiry_date': '2022 Jan',\n",
       "  'Company': 'Lipton'},\n",
       " '1015': {'Name': 'Toothpaste',\n",
       "  'price': 40,\n",
       "  'Quantity': 50,\n",
       "  'expiry_date': '2022 feb',\n",
       "  'Company': 'Colgate'},\n",
       " '1016': {'Name': 'Soap',\n",
       "  'price': 25,\n",
       "  'Quantity': 30,\n",
       "  'expiry_date': '2022 March',\n",
       "  'Company': 'Lifebuoy'},\n",
       " '1017': {'Name': 'Detergents',\n",
       "  'price': 30,\n",
       "  'Quantity': 50,\n",
       "  'expiry_date': '2022 March',\n",
       "  'Company': 'Wheel'},\n",
       " '1018': {'Name': 'Aata',\n",
       "  'price': 200,\n",
       "  'Quantity': 40,\n",
       "  'expiry_date': '2022 june',\n",
       "  'Company': 'Aashirwad'},\n",
       " '1019': {'Name': 'Rice',\n",
       "  'price': 100,\n",
       "  'Quantity': 30,\n",
       "  'expiry_date': '2022 July',\n",
       "  'Company': 'India gate'},\n",
       " '1020': {'Name': 'Chocklate',\n",
       "  'price': 20,\n",
       "  'Quantity': 80,\n",
       "  'expiry_date': '2021 Dec',\n",
       "  'Company': 'Kitkat'},\n",
       " '1021': {'Name': 'Chocklate',\n",
       "  'price': 10,\n",
       "  'Quantity': 100,\n",
       "  'expiry_date': '2021 Dec',\n",
       "  'Company': '5-Star'},\n",
       " '1022': {'Name': 'Chocklates',\n",
       "  'price': 25,\n",
       "  'Quantity': 50,\n",
       "  'expiry_date': '2021 Nov',\n",
       "  'Company': 'Dairy Milk'},\n",
       " '1023': {'Name': 'Chips',\n",
       "  'price': 10,\n",
       "  'Quantity': 100,\n",
       "  'expiry_date': '2022 Feb',\n",
       "  'Company': 'Lays'},\n",
       " '1024': {'Name': 'Crackers',\n",
       "  'price': 10,\n",
       "  'Quantity': 100,\n",
       "  'expiry_date': '2021 Dec',\n",
       "  'Company': 'Kurkure'},\n",
       " '1025': {'Name': 'Milk',\n",
       "  'price': 30,\n",
       "  'Quantity': 25,\n",
       "  'expiry_date': '2021 Sep',\n",
       "  'Company': 'Amul'},\n",
       " '1026': {'Name': 'Handwash',\n",
       "  'price': 90,\n",
       "  'Quantity': 70,\n",
       "  'expiry_date': '2022 April',\n",
       "  'Company': 'Savlon'},\n",
       " '1027': {'Name': 'Leoptop',\n",
       "  'price': 50000,\n",
       "  'Quantity': 8,\n",
       "  'expiry_date': '2022 Sep',\n",
       "  'Company': 'Asus'},\n",
       " '1028': {'Name': 'Mobile',\n",
       "  'price': 12000,\n",
       "  'Quantity': 10,\n",
       "  'expiry_date': '2022 Sep',\n",
       "  'Company': 'Oppo'},\n",
       " '1029': {'Name': 'Tablet',\n",
       "  'price': 15000,\n",
       "  'Quantity': 15,\n",
       "  'expiry_date': '1 Year',\n",
       "  'Company': 'Samsung'},\n",
       " '1030': {'Name': 'LED',\n",
       "  'price': 25000,\n",
       "  'Quantity': 17,\n",
       "  'expiry_date': '1 year',\n",
       "  'Company': 'Sony'},\n",
       " '1031': {'Name': 'Refrigerator',\n",
       "  'price': 25000,\n",
       "  'Quantity': 10,\n",
       "  'expiry_date': '1 year',\n",
       "  'Company': 'LG'},\n",
       " '1032': {'Name': 'Hairoil',\n",
       "  'price': 35,\n",
       "  'Quantity': 30,\n",
       "  'expiry_date': '2021 Dec',\n",
       "  'Company': 'Jasmine'},\n",
       " '1033': {'Name': 'Facewash',\n",
       "  'price': 40,\n",
       "  'Quantity': 35,\n",
       "  'expiry_date': '2021 Dec',\n",
       "  'Company': 'Patanjali'},\n",
       " '1034': {'Name': 'Sleepers',\n",
       "  'price': 400,\n",
       "  'Quantity': 45,\n",
       "  'expiry_date': '1 Year',\n",
       "  'Company': 'Puma'},\n",
       " '1035': {'Name': 'Shoes',\n",
       "  'price': 3000,\n",
       "  'Quantity': 25,\n",
       "  'expiry_date': '1 Year',\n",
       "  'Company': 'Reebook'}}"
      ]
     },
     "execution_count": 16,
     "metadata": {},
     "output_type": "execute_result"
    }
   ],
   "source": [
    "Record"
   ]
  },
  {
   "cell_type": "markdown",
   "metadata": {},
   "source": [
    "### Add the new Item in the inventry"
   ]
  },
  {
   "cell_type": "code",
   "execution_count": 28,
   "metadata": {},
   "outputs": [
    {
     "name": "stdout",
     "output_type": "stream",
     "text": [
      "Enter product id:1036\n",
      "Enter product name:Milk\n",
      "Enter price:40\n",
      "Enter the quantity:15\n",
      "Enter the expiry_date:sep 2021\n",
      "Enter the Company:Patanjali\n",
      "****************************\n",
      "You have Successfully added the Products in your Inventry\n"
     ]
    }
   ],
   "source": [
    "Prod_id = str(input(\"Enter product id:\"))\n",
    "Name = str(input(\"Enter product name:\"))\n",
    "price = int(input(\"Enter price:\"))\n",
    "Quantity = int(input(\"Enter the quantity:\"))\n",
    "expiry_date = str(input(\"Enter the expiry_date:\"))\n",
    "Company = str(input(\"Enter the Company:\"))\n",
    "\n",
    "if Prod_id in Record:\n",
    "    Record[Prod_id]['Quantity']+Quantity\n",
    "    Record[Prod_id] = {'Name': Name, 'price': price, 'Quantity': Record[Prod_id]['Quantity']+Quantity, 'expiry_date': expiry_date,\n",
    "                       'Company': Company}\n",
    "    js = json.dumps(Record)\n",
    "\n",
    "    fd = open(\"Record.json\",'w')\n",
    "    fd.write(js)\n",
    "    fd.close()\n",
    "    \n",
    "    print(\"****************************\")\n",
    "    \n",
    "    print(\"You have Successfully added the Products in your Inventry\")\n",
    "else:\n",
    "    Record[Prod_id] = {'Name': Name, 'price': price, 'Quantity': Quantity, 'expiry_date': expiry_date, 'Company': Company}\n",
    "    js = json.dumps(Record)\n",
    "    fd = open(\"Record.json\",'w')\n",
    "    fd.write(js)\n",
    "    fd.close()\n",
    "    \n",
    "    print(\"****************************\")\n",
    "    \n",
    "    print(\"You have Successfully added the Products in your Inventry\")\n",
    "    "
   ]
  },
  {
   "cell_type": "markdown",
   "metadata": {},
   "source": [
    "### Reading the inventry for purchasing\n"
   ]
  },
  {
   "cell_type": "code",
   "execution_count": 29,
   "metadata": {},
   "outputs": [],
   "source": [
    "import json\n",
    "\n",
    "fd = open(\"Record.json\",'r')\n",
    "text = fd.read()\n",
    "fd.close()\n",
    "\n",
    "Record = json.loads(text)"
   ]
  },
  {
   "cell_type": "markdown",
   "metadata": {},
   "source": [
    "### Purchasing "
   ]
  },
  {
   "cell_type": "code",
   "execution_count": 30,
   "metadata": {},
   "outputs": [
    {
     "name": "stdout",
     "output_type": "stream",
     "text": [
      "Enter the product_Id: 1036\n",
      "Enter the quantity: 2\n",
      "Product:  Milk\n",
      "Price:  40\n",
      "expiry_date:  sep 2021\n",
      "Company:  Patanjali\n",
      "Billing Amount:  80\n",
      "****************************************************\n",
      "Thankyou sir for a purchasing at this Store\n",
      "Have a nice day\n"
     ]
    }
   ],
   "source": [
    "import time\n",
    "user_prod  = str(input(\"Enter the product_Id: \"))\n",
    "user_quant = int(input(\"Enter the quantity: \"))\n",
    "\n",
    "\n",
    "Time=time.ctime()\n",
    "if user_prod not in Record:\n",
    "    print(\"*************************************************\")\n",
    "    \n",
    "    print(\"Sorry Sir this Item is not availiable in my store\")\n",
    "\n",
    "\n",
    "else:\n",
    "    print(\"Product: \", Record[user_prod]['Name'])\n",
    "    print(\"Price: \", Record[user_prod]['price'])\n",
    "    print(\"expiry_date: \", Record[user_prod]['expiry_date'])\n",
    "    print(\"Company: \", Record[user_prod]['Company'])\n",
    "    print(\"Billing Amount: \", Record[user_prod]['price'] * user_quant)\n",
    "\n",
    "\n",
    "\n",
    "    Record[user_prod]['Quantity'] = Record[user_prod]['Quantity'] - user_quant\n",
    "    print(\"****************************************************\")\n",
    "    print(\"Thankyou sir for a purchasing at this Store\")\n",
    "    print(\"Have a nice day\")"
   ]
  },
  {
   "cell_type": "markdown",
   "metadata": {},
   "source": [
    "### Update Inventry after shopping"
   ]
  },
  {
   "cell_type": "code",
   "execution_count": 31,
   "metadata": {},
   "outputs": [],
   "source": [
    "js = json.dumps(Record)\n",
    "\n",
    "fd = open(\"Record.json\",'w')\n",
    "fd.write(js)\n",
    "fd.close()"
   ]
  },
  {
   "cell_type": "code",
   "execution_count": 32,
   "metadata": {},
   "outputs": [
    {
     "data": {
      "text/plain": [
       "{'prod': '1036',\n",
       " 'Quantity': 2,\n",
       " 'amount': 80,\n",
       " 'Time': 'Sun Sep  5 21:19:39 2021',\n",
       " 'expiry_date': 'sep 2021'}"
      ]
     },
     "execution_count": 32,
     "metadata": {},
     "output_type": "execute_result"
    }
   ],
   "source": [
    "{'prod' : user_prod, 'Quantity' : user_quant, 'amount': Record[user_prod]['price'] * user_quant,'Time': Time,\n",
    " 'expiry_date': expiry_date}"
   ]
  },
  {
   "cell_type": "markdown",
   "metadata": {},
   "source": [
    "### Updating Sales in sales.json"
   ]
  },
  {
   "cell_type": "code",
   "execution_count": 33,
   "metadata": {},
   "outputs": [],
   "source": [
    "sale={'Transaction' : {'prod' : user_prod, 'Quantity' : user_quant, 'amount': Record[user_prod]['price'] * user_quant,'Time': Time,\n",
    "           'expiry_date': expiry_date}}"
   ]
  },
  {
   "cell_type": "code",
   "execution_count": 34,
   "metadata": {},
   "outputs": [],
   "source": [
    "Turnover = json.dumps(sale)"
   ]
  },
  {
   "cell_type": "code",
   "execution_count": 35,
   "metadata": {},
   "outputs": [
    {
     "data": {
      "text/plain": [
       "'{\"Transaction\": {\"prod\": \"1036\", \"Quantity\": 2, \"amount\": 80, \"Time\": \"Sun Sep  5 21:19:39 2021\", \"expiry_date\": \"sep 2021\"}}'"
      ]
     },
     "execution_count": 35,
     "metadata": {},
     "output_type": "execute_result"
    }
   ],
   "source": [
    "Turnover"
   ]
  },
  {
   "cell_type": "code",
   "execution_count": 36,
   "metadata": {},
   "outputs": [],
   "source": [
    "fd=open(\"Sales.json\",\"a\")\n",
    "fd.write(Turnover)\n",
    "fd.close()"
   ]
  },
  {
   "cell_type": "code",
   "execution_count": null,
   "metadata": {},
   "outputs": [],
   "source": []
  }
 ],
 "metadata": {
  "kernelspec": {
   "display_name": "Python 3",
   "language": "python",
   "name": "python3"
  },
  "language_info": {
   "codemirror_mode": {
    "name": "ipython",
    "version": 3
   },
   "file_extension": ".py",
   "mimetype": "text/x-python",
   "name": "python",
   "nbconvert_exporter": "python",
   "pygments_lexer": "ipython3",
   "version": "3.8.5"
  }
 },
 "nbformat": 4,
 "nbformat_minor": 4
}
